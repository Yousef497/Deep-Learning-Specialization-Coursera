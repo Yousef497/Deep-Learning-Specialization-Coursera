{
 "cells": [
  {
   "cell_type": "markdown",
   "id": "c64b7480",
   "metadata": {},
   "source": [
    "### 1. Import important dependencies"
   ]
  },
  {
   "cell_type": "code",
   "execution_count": 2,
   "id": "7cfba237",
   "metadata": {},
   "outputs": [],
   "source": [
    "import os"
   ]
  },
  {
   "cell_type": "code",
   "execution_count": 10,
   "id": "8f0a2a06",
   "metadata": {
    "scrolled": true
   },
   "outputs": [
    {
     "name": "stdout",
     "output_type": "stream",
     "text": [
      "Name: gym\n",
      "Version: 0.21.0\n",
      "Summary: Gym: A universal API for reinforcement learning environments.\n",
      "Home-page: https://github.com/openai/gym\n",
      "Author: OpenAI\n",
      "Author-email: jkterry@umd.edu\n",
      "License: UNKNOWN\n",
      "Location: c:\\users\\yoyoy\\anaconda3\\envs\\rl\\lib\\site-packages\n",
      "Requires: numpy, cloudpickle\n",
      "Required-by: stable-baselines3\n"
     ]
    }
   ],
   "source": [
    "!pip show gym"
   ]
  },
  {
   "cell_type": "code",
   "execution_count": 12,
   "id": "9f8ec56e",
   "metadata": {},
   "outputs": [],
   "source": [
    "import sys\n",
    "sys.path.append('C:\\\\users\\\\yoyoy\\\\anaconda3\\\\envs\\\\rl\\\\lib\\\\site-packages')"
   ]
  },
  {
   "cell_type": "code",
   "execution_count": 14,
   "id": "06c5d3d0",
   "metadata": {},
   "outputs": [],
   "source": [
    "import gym\n",
    "from stable_baselines3 import PPO\n",
    "from stable_baselines3.common.vec_env import DummyVecEnv\n",
    "from stable_baselines3.common.evaluation import evaluate_policy"
   ]
  },
  {
   "cell_type": "code",
   "execution_count": null,
   "id": "abb827e2",
   "metadata": {},
   "outputs": [],
   "source": []
  }
 ],
 "metadata": {
  "kernelspec": {
   "display_name": "Python 3",
   "language": "python",
   "name": "python3"
  },
  "language_info": {
   "codemirror_mode": {
    "name": "ipython",
    "version": 3
   },
   "file_extension": ".py",
   "mimetype": "text/x-python",
   "name": "python",
   "nbconvert_exporter": "python",
   "pygments_lexer": "ipython3",
   "version": "3.8.8"
  }
 },
 "nbformat": 4,
 "nbformat_minor": 5
}
